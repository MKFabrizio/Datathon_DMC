{
 "cells": [
  {
   "cell_type": "code",
   "execution_count": 1,
   "metadata": {},
   "outputs": [],
   "source": [
    "import pandas as pd\n",
    "import numpy as np\n",
    "from sklearn.preprocessing import KBinsDiscretizer\n",
    "from scipy.stats import spearmanr\n",
    "from collections import defaultdict"
   ]
  },
  {
   "cell_type": "code",
   "execution_count": 2,
   "metadata": {},
   "outputs": [],
   "source": [
    "# Function to compute Gini coefficient including null values\n",
    "def gini_with_nulls(feature, target):\n",
    "    df = pd.DataFrame({'feature': feature, 'target': target})\n",
    "    df = df.dropna()\n",
    "    values = df['feature'].values\n",
    "    target_values = df['target'].values\n",
    "    \n",
    "    # Rank transformation for Gini calculation\n",
    "    sorted_indices = np.argsort(values)\n",
    "    sorted_target = target_values[sorted_indices]\n",
    "    cum_target = np.cumsum(sorted_target)\n",
    "    cum_target_sum = cum_target[-1]\n",
    "    \n",
    "    if cum_target_sum == 0:\n",
    "        return 0\n",
    "    \n",
    "    gini = (np.sum(cum_target) / cum_target_sum - (len(sorted_target) + 1) / 2) / len(sorted_target)\n",
    "    return gini * 2"
   ]
  },
  {
   "cell_type": "code",
   "execution_count": 3,
   "metadata": {},
   "outputs": [],
   "source": [
    "# Step 1: Univariate Analysis\n",
    "def univariate_analysis(df, num_vars, cat_vars):\n",
    "    results = {}\n",
    "    \n",
    "    for var in num_vars + cat_vars:\n",
    "        non_null_fill = df[var].notnull().mean()\n",
    "        zero_fill = (df[var].isnull() | (df[var] == 0)).mean()\n",
    "        percentiles = df[var].dropna().quantile([0.25, 0.50, 0.75]).to_dict()\n",
    "        \n",
    "        results[var] = {\n",
    "            'fill_rate': non_null_fill,\n",
    "            'zero_fill_rate': zero_fill,\n",
    "            '25%': percentiles.get(0.25, np.nan),\n",
    "            '50%': percentiles.get(0.50, np.nan),\n",
    "            '75%': percentiles.get(0.75, np.nan)\n",
    "        }\n",
    "    \n",
    "    results_df = pd.DataFrame(results).T\n",
    "    results_df = results_df[results_df['zero_fill_rate'] < 0.95]  # Drop nearly empty variables\n",
    "    return results_df"
   ]
  },
  {
   "cell_type": "code",
   "execution_count": 4,
   "metadata": {},
   "outputs": [],
   "source": [
    "# Step 2: Bivariate Analysis - Compute Gini\n",
    "def bivariate_analysis(df, num_vars, cat_vars, target):\n",
    "    gini_results = {}\n",
    "    \n",
    "    for var in num_vars + cat_vars:\n",
    "        gini_score = gini_with_nulls(df[var], df[target])\n",
    "        gini_results[var] = gini_score\n",
    "    \n",
    "    gini_df = pd.DataFrame.from_dict(gini_results, orient='index', columns=['gini'])\n",
    "    return gini_df"
   ]
  },
  {
   "cell_type": "code",
   "execution_count": 5,
   "metadata": {},
   "outputs": [],
   "source": [
    "# Step 3: Truncation Testing\n",
    "def truncation_selection(df, num_vars, target):\n",
    "    trunc_levels = [98, 95, 90, 85]\n",
    "    best_truncation = {}\n",
    "    \n",
    "    for var in num_vars:\n",
    "        best_gini = -1\n",
    "        best_data = df[var]\n",
    "        \n",
    "        for trunc in trunc_levels:\n",
    "            threshold = np.percentile(df[var].dropna(), trunc)\n",
    "            truncated_data = df[var].clip(upper=threshold)\n",
    "            gini_score = gini_with_nulls(truncated_data, df[target])\n",
    "            \n",
    "            if gini_score > best_gini:\n",
    "                best_gini = gini_score\n",
    "                best_data = truncated_data\n",
    "        \n",
    "        best_truncation[var] = best_data\n",
    "    \n",
    "    df_truncated = df.copy()\n",
    "    for var in best_truncation:\n",
    "        df_truncated[var] = best_truncation[var]\n",
    "    \n",
    "    return df_truncated"
   ]
  },
  {
   "cell_type": "code",
   "execution_count": null,
   "metadata": {},
   "outputs": [],
   "source": []
  }
 ],
 "metadata": {
  "kernelspec": {
   "display_name": "Python 3",
   "language": "python",
   "name": "python3"
  },
  "language_info": {
   "codemirror_mode": {
    "name": "ipython",
    "version": 3
   },
   "file_extension": ".py",
   "mimetype": "text/x-python",
   "name": "python",
   "nbconvert_exporter": "python",
   "pygments_lexer": "ipython3",
   "version": "3.10.7"
  }
 },
 "nbformat": 4,
 "nbformat_minor": 2
}
